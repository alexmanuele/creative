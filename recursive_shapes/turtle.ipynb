{
 "cells": [
  {
   "cell_type": "markdown",
   "id": "8edc15ed",
   "metadata": {},
   "source": [
    "# Recursive Shapes! Check out the Cairo notebook for a rambling explanation."
   ]
  },
  {
   "cell_type": "code",
   "execution_count": 1,
   "id": "d0a4e1c8",
   "metadata": {},
   "outputs": [],
   "source": [
    "import turtle\n",
    "import math\n",
    "import seaborn as sns"
   ]
  },
  {
   "cell_type": "markdown",
   "id": "6fcb6ae6",
   "metadata": {},
   "source": [
    "### Given a circle of radius r inscribed with a polygon with number of sides n, what is the length of n?\n",
    "\n",
    "Let $\\theta$ be the interior angle of a polygon with number of sides $n$. <br>\n",
    "then, $\\theta = \\frac{180(n-2)}{n}$ <br>\n",
    "For a polygon inscribed in a circle of radius $r$, the length of a side of the polygon is given as $2rcos\\theta$<br>\n",
    "So, the length of a side $n$ is given as <br>\n",
    "$2rcos(\\frac{1}{2} \\times \\frac{180(n-2)}{n})$\n",
    "\n",
    "\n"
   ]
  },
  {
   "cell_type": "code",
   "execution_count": 7,
   "id": "cc8f36e5",
   "metadata": {},
   "outputs": [
    {
     "ename": "Terminator",
     "evalue": "",
     "output_type": "error",
     "traceback": [
      "\u001b[0;31m---------------------------------------------------------------------------\u001b[0m",
      "\u001b[0;31mTerminator\u001b[0m                                Traceback (most recent call last)",
      "Input \u001b[0;32mIn [7]\u001b[0m, in \u001b[0;36m<cell line: 68>\u001b[0;34m()\u001b[0m\n\u001b[1;32m     65\u001b[0m radius \u001b[38;5;241m=\u001b[39m \u001b[38;5;241m30\u001b[39m\n\u001b[1;32m     66\u001b[0m nsides \u001b[38;5;241m=\u001b[39m \u001b[38;5;241m10\u001b[39m \n\u001b[0;32m---> 68\u001b[0m t \u001b[38;5;241m=\u001b[39m \u001b[43mturtle\u001b[49m\u001b[38;5;241;43m.\u001b[39;49m\u001b[43mTurtle\u001b[49m\u001b[43m(\u001b[49m\u001b[43m)\u001b[49m\n\u001b[1;32m     69\u001b[0m t\u001b[38;5;241m.\u001b[39mspeed(\u001b[38;5;124m'\u001b[39m\u001b[38;5;124mfastest\u001b[39m\u001b[38;5;124m'\u001b[39m)\n\u001b[1;32m     71\u001b[0m cmap \u001b[38;5;241m=\u001b[39m {i:c \u001b[38;5;28;01mfor\u001b[39;00m i, c \u001b[38;5;129;01min\u001b[39;00m \u001b[38;5;28menumerate\u001b[39m(sns\u001b[38;5;241m.\u001b[39mcolor_palette(\u001b[38;5;124m'\u001b[39m\u001b[38;5;124mnipy_spectral\u001b[39m\u001b[38;5;124m'\u001b[39m, nsides\u001b[38;5;241m-\u001b[39m\u001b[38;5;241m2\u001b[39m))}\n",
      "File \u001b[0;32m~/anaconda3/envs/art/lib/python3.8/turtle.py:3814\u001b[0m, in \u001b[0;36mTurtle.__init__\u001b[0;34m(self, shape, undobuffersize, visible)\u001b[0m\n\u001b[1;32m   3812\u001b[0m \u001b[38;5;28;01mif\u001b[39;00m Turtle\u001b[38;5;241m.\u001b[39m_screen \u001b[38;5;129;01mis\u001b[39;00m \u001b[38;5;28;01mNone\u001b[39;00m:\n\u001b[1;32m   3813\u001b[0m     Turtle\u001b[38;5;241m.\u001b[39m_screen \u001b[38;5;241m=\u001b[39m Screen()\n\u001b[0;32m-> 3814\u001b[0m \u001b[43mRawTurtle\u001b[49m\u001b[38;5;241;43m.\u001b[39;49m\u001b[38;5;21;43m__init__\u001b[39;49m\u001b[43m(\u001b[49m\u001b[38;5;28;43mself\u001b[39;49m\u001b[43m,\u001b[49m\u001b[43m \u001b[49m\u001b[43mTurtle\u001b[49m\u001b[38;5;241;43m.\u001b[39;49m\u001b[43m_screen\u001b[49m\u001b[43m,\u001b[49m\n\u001b[1;32m   3815\u001b[0m \u001b[43m                   \u001b[49m\u001b[43mshape\u001b[49m\u001b[38;5;241;43m=\u001b[39;49m\u001b[43mshape\u001b[49m\u001b[43m,\u001b[49m\n\u001b[1;32m   3816\u001b[0m \u001b[43m                   \u001b[49m\u001b[43mundobuffersize\u001b[49m\u001b[38;5;241;43m=\u001b[39;49m\u001b[43mundobuffersize\u001b[49m\u001b[43m,\u001b[49m\n\u001b[1;32m   3817\u001b[0m \u001b[43m                   \u001b[49m\u001b[43mvisible\u001b[49m\u001b[38;5;241;43m=\u001b[39;49m\u001b[43mvisible\u001b[49m\u001b[43m)\u001b[49m\n",
      "File \u001b[0;32m~/anaconda3/envs/art/lib/python3.8/turtle.py:2558\u001b[0m, in \u001b[0;36mRawTurtle.__init__\u001b[0;34m(self, canvas, shape, undobuffersize, visible)\u001b[0m\n\u001b[1;32m   2556\u001b[0m \u001b[38;5;28mself\u001b[39m\u001b[38;5;241m.\u001b[39m_undobuffersize \u001b[38;5;241m=\u001b[39m undobuffersize\n\u001b[1;32m   2557\u001b[0m \u001b[38;5;28mself\u001b[39m\u001b[38;5;241m.\u001b[39mundobuffer \u001b[38;5;241m=\u001b[39m Tbuffer(undobuffersize)\n\u001b[0;32m-> 2558\u001b[0m \u001b[38;5;28;43mself\u001b[39;49m\u001b[38;5;241;43m.\u001b[39;49m\u001b[43m_update\u001b[49m\u001b[43m(\u001b[49m\u001b[43m)\u001b[49m\n",
      "File \u001b[0;32m~/anaconda3/envs/art/lib/python3.8/turtle.py:2661\u001b[0m, in \u001b[0;36mRawTurtle._update\u001b[0;34m(self)\u001b[0m\n\u001b[1;32m   2659\u001b[0m     \u001b[38;5;28;01mreturn\u001b[39;00m\n\u001b[1;32m   2660\u001b[0m \u001b[38;5;28;01melif\u001b[39;00m screen\u001b[38;5;241m.\u001b[39m_tracing \u001b[38;5;241m==\u001b[39m \u001b[38;5;241m1\u001b[39m:\n\u001b[0;32m-> 2661\u001b[0m     \u001b[38;5;28;43mself\u001b[39;49m\u001b[38;5;241;43m.\u001b[39;49m\u001b[43m_update_data\u001b[49m\u001b[43m(\u001b[49m\u001b[43m)\u001b[49m\n\u001b[1;32m   2662\u001b[0m     \u001b[38;5;28mself\u001b[39m\u001b[38;5;241m.\u001b[39m_drawturtle()\n\u001b[1;32m   2663\u001b[0m     screen\u001b[38;5;241m.\u001b[39m_update()                  \u001b[38;5;66;03m# TurtleScreenBase\u001b[39;00m\n",
      "File \u001b[0;32m~/anaconda3/envs/art/lib/python3.8/turtle.py:2647\u001b[0m, in \u001b[0;36mRawTurtle._update_data\u001b[0;34m(self)\u001b[0m\n\u001b[1;32m   2646\u001b[0m \u001b[38;5;28;01mdef\u001b[39;00m \u001b[38;5;21m_update_data\u001b[39m(\u001b[38;5;28mself\u001b[39m):\n\u001b[0;32m-> 2647\u001b[0m     \u001b[38;5;28;43mself\u001b[39;49m\u001b[38;5;241;43m.\u001b[39;49m\u001b[43mscreen\u001b[49m\u001b[38;5;241;43m.\u001b[39;49m\u001b[43m_incrementudc\u001b[49m\u001b[43m(\u001b[49m\u001b[43m)\u001b[49m\n\u001b[1;32m   2648\u001b[0m     \u001b[38;5;28;01mif\u001b[39;00m \u001b[38;5;28mself\u001b[39m\u001b[38;5;241m.\u001b[39mscreen\u001b[38;5;241m.\u001b[39m_updatecounter \u001b[38;5;241m!=\u001b[39m \u001b[38;5;241m0\u001b[39m:\n\u001b[1;32m   2649\u001b[0m         \u001b[38;5;28;01mreturn\u001b[39;00m\n",
      "File \u001b[0;32m~/anaconda3/envs/art/lib/python3.8/turtle.py:1293\u001b[0m, in \u001b[0;36mTurtleScreen._incrementudc\u001b[0;34m(self)\u001b[0m\n\u001b[1;32m   1291\u001b[0m \u001b[38;5;28;01mif\u001b[39;00m \u001b[38;5;129;01mnot\u001b[39;00m TurtleScreen\u001b[38;5;241m.\u001b[39m_RUNNING:\n\u001b[1;32m   1292\u001b[0m     TurtleScreen\u001b[38;5;241m.\u001b[39m_RUNNING \u001b[38;5;241m=\u001b[39m \u001b[38;5;28;01mTrue\u001b[39;00m\n\u001b[0;32m-> 1293\u001b[0m     \u001b[38;5;28;01mraise\u001b[39;00m Terminator\n\u001b[1;32m   1294\u001b[0m \u001b[38;5;28;01mif\u001b[39;00m \u001b[38;5;28mself\u001b[39m\u001b[38;5;241m.\u001b[39m_tracing \u001b[38;5;241m>\u001b[39m \u001b[38;5;241m0\u001b[39m:\n\u001b[1;32m   1295\u001b[0m     \u001b[38;5;28mself\u001b[39m\u001b[38;5;241m.\u001b[39m_updatecounter \u001b[38;5;241m+\u001b[39m\u001b[38;5;241m=\u001b[39m \u001b[38;5;241m1\u001b[39m\n",
      "\u001b[0;31mTerminator\u001b[0m: "
     ]
    }
   ],
   "source": [
    "import turtle\n",
    "import math\n",
    "import seaborn as sns\n",
    "\n",
    "def get_next_sets(trt, origin, init_hd, nsides, r):\n",
    "    int_angle = 180*(nsides-2)/nsides\n",
    "    turn_angle = 180-int_angle\n",
    "    sets = []\n",
    "    trt.penup()\n",
    "    trt.goto(*origin)\n",
    "    trt.seth(init_hd)\n",
    "    trt.right(turn_angle/2)\n",
    "    start_angle = trt.heading()\n",
    "    \n",
    "    #properties of next shape\n",
    "    next_sides = nsides-1\n",
    "    next_int_angle = 180*(next_sides-2)/next_sides\n",
    "    next_turn_angle = 180-next_int_angle\n",
    "    \n",
    "    for i in range(nsides):\n",
    "        trt.goto(*origin)\n",
    "        trt.seth(start_angle + i*turn_angle)\n",
    "        trt.fd(2*r)\n",
    "        if nsides % 2 == 0:\n",
    "            sets.append( (trt.pos(), trt.heading()) )\n",
    "        else:\n",
    "            sets.append( (trt.pos(), trt.heading() + next_turn_angle/2))\n",
    "    return sets\n",
    "\n",
    "def recursive_shapes( trtl, origin, heading=90, radius=100, nsides=6, circle=True ):\n",
    "    trtl.penup()\n",
    "    trtl.goto(*origin)\n",
    "    #draw the circle\n",
    "    x, y = trtl.pos()\n",
    "    clr = cmap[nsides-3]\n",
    "    \n",
    "    trtl.color(clr, clr)\n",
    "    trtl.sety(y - radius)\n",
    "    trtl.pd()\n",
    "    trtl.seth(0)\n",
    "    if circle:\n",
    "        trtl.circle(radius)\n",
    "    trtl.penup()\n",
    "    #draw the polygon\n",
    "    trtl.goto(*origin)\n",
    "    #calculate the internal angle of the polygon\n",
    "    angle = 180*(nsides-2)/nsides\n",
    "    #calculate the length of the polygon edges\n",
    "    l = 2*radius*math.cos(math.radians((1/2)*180*(nsides-2)/nsides))\n",
    "    trtl.seth(heading)\n",
    "    trtl.fd(radius)\n",
    "    trtl.right(180 - (angle/2))\n",
    "    trtl.pd()\n",
    "    for i in range(nsides):\n",
    "        trtl.fd(l)\n",
    "        trtl.right(180-angle)\n",
    "    if nsides >= 4:\n",
    "        next_sides = nsides - 1\n",
    "        sets = get_next_sets(trtl, origin, heading, nsides, radius)\n",
    "        for s in sets:\n",
    "            recursive_shapes(trtl, s[0], s[1], radius, next_sides, circle)\n",
    "            \n",
    "origin = (0,0)\n",
    "heading = 90\n",
    "radius = 30\n",
    "nsides = 10 \n",
    "\n",
    "t = turtle.Turtle()\n",
    "t.speed('fastest')\n",
    "\n",
    "cmap = {i:c for i, c in enumerate(sns.color_palette('nipy_spectral', nsides-2))}\n",
    "\n",
    "turtle.screensize(canvwidth=1000, canvheight=1000, bg='black')\n",
    "recursive_shapes(t, origin, heading, radius, nsides, circle=False)\n",
    "turtle.done()\n",
    "turtle.done()"
   ]
  },
  {
   "cell_type": "code",
   "execution_count": 8,
   "id": "445076ea",
   "metadata": {},
   "outputs": [],
   "source": [
    "turtle.done()"
   ]
  }
 ],
 "metadata": {
  "kernelspec": {
   "display_name": "Python 3 (ipykernel)",
   "language": "python",
   "name": "python3"
  },
  "language_info": {
   "codemirror_mode": {
    "name": "ipython",
    "version": 3
   },
   "file_extension": ".py",
   "mimetype": "text/x-python",
   "name": "python",
   "nbconvert_exporter": "python",
   "pygments_lexer": "ipython3",
   "version": "3.8.13"
  }
 },
 "nbformat": 4,
 "nbformat_minor": 5
}
